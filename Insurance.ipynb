{
 "cells": [
  {
   "cell_type": "code",
   "execution_count": 1,
   "metadata": {
    "colab": {
     "base_uri": "https://localhost:8080/",
     "height": 108,
     "resources": {
      "http://localhost:8080/nbextensions/google.colab/files.js": {
       "data": "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",
       "headers": [
        [
         "content-type",
         "application/javascript"
        ]
       ],
       "ok": true,
       "status": 200,
       "status_text": ""
      }
     }
    },
    "colab_type": "code",
    "executionInfo": {
     "elapsed": 7466,
     "status": "ok",
     "timestamp": 1588540008946,
     "user": {
      "displayName": "Robert Hancock",
      "photoUrl": "",
      "userId": "18091306208267078283"
     },
     "user_tz": 300
    },
    "id": "QHOzzQdh-NN8",
    "outputId": "61a10abf-d433-47a4-e72a-145662dc5e29"
   },
   "outputs": [
    {
     "ename": "ModuleNotFoundError",
     "evalue": "No module named 'google'",
     "output_type": "error",
     "traceback": [
      "\u001b[1;31m---------------------------------------------------------------------------\u001b[0m",
      "\u001b[1;31mModuleNotFoundError\u001b[0m                       Traceback (most recent call last)",
      "\u001b[1;32m<ipython-input-1-26094622dc79>\u001b[0m in \u001b[0;36m<module>\u001b[1;34m\u001b[0m\n\u001b[0;32m      6\u001b[0m \u001b[1;32mimport\u001b[0m \u001b[0mseaborn\u001b[0m \u001b[1;32mas\u001b[0m \u001b[0msns\u001b[0m\u001b[1;33m\u001b[0m\u001b[1;33m\u001b[0m\u001b[0m\n\u001b[0;32m      7\u001b[0m \u001b[1;33m\u001b[0m\u001b[0m\n\u001b[1;32m----> 8\u001b[1;33m \u001b[1;32mfrom\u001b[0m \u001b[0mgoogle\u001b[0m\u001b[1;33m.\u001b[0m\u001b[0mcolab\u001b[0m \u001b[1;32mimport\u001b[0m \u001b[0mfiles\u001b[0m\u001b[1;33m\u001b[0m\u001b[1;33m\u001b[0m\u001b[0m\n\u001b[0m\u001b[0;32m      9\u001b[0m \u001b[0muploaded\u001b[0m \u001b[1;33m=\u001b[0m \u001b[0mfiles\u001b[0m\u001b[1;33m.\u001b[0m\u001b[0mupload\u001b[0m\u001b[1;33m(\u001b[0m\u001b[1;33m)\u001b[0m\u001b[1;33m\u001b[0m\u001b[1;33m\u001b[0m\u001b[0m\n",
      "\u001b[1;31mModuleNotFoundError\u001b[0m: No module named 'google'"
     ]
    }
   ],
   "source": [
    "#Team Members Name: Kellan Bouwman, Robert Hancock\n",
    "#Data set = https://www.kaggle.com/mirichoi0218/insurance/data\n",
    "import pandas as pd\n",
    "import numpy as np\n",
    "import matplotlib.pyplot as plt\n",
    "import seaborn as sns"
   ]
  },
  {
   "cell_type": "code",
   "execution_count": null,
   "metadata": {
    "colab": {},
    "colab_type": "code",
    "id": "GQwBORXTAKMs"
   },
   "outputs": [],
   "source": [
    "df = pd.read_csv('insurance.csv')"
   ]
  },
  {
   "cell_type": "code",
   "execution_count": null,
   "metadata": {
    "colab": {
     "base_uri": "https://localhost:8080/",
     "height": 255
    },
    "colab_type": "code",
    "executionInfo": {
     "elapsed": 7375,
     "status": "ok",
     "timestamp": 1588540008947,
     "user": {
      "displayName": "Robert Hancock",
      "photoUrl": "",
      "userId": "18091306208267078283"
     },
     "user_tz": 300
    },
    "id": "bymZIPu_AMBF",
    "outputId": "e15ca22c-276b-4714-c01b-b10be36de2ec"
   },
   "outputs": [],
   "source": [
    "print(df)"
   ]
  },
  {
   "cell_type": "code",
   "execution_count": null,
   "metadata": {
    "colab": {
     "base_uri": "https://localhost:8080/",
     "height": 204
    },
    "colab_type": "code",
    "executionInfo": {
     "elapsed": 7489,
     "status": "ok",
     "timestamp": 1588540009078,
     "user": {
      "displayName": "Robert Hancock",
      "photoUrl": "",
      "userId": "18091306208267078283"
     },
     "user_tz": 300
    },
    "id": "32mnpJ_qAMDl",
    "outputId": "917de21d-fd97-4083-b250-a961654ab29c"
   },
   "outputs": [],
   "source": [
    "df.head()"
   ]
  },
  {
   "cell_type": "code",
   "execution_count": null,
   "metadata": {
    "colab": {
     "base_uri": "https://localhost:8080/",
     "height": 297
    },
    "colab_type": "code",
    "executionInfo": {
     "elapsed": 7476,
     "status": "ok",
     "timestamp": 1588540009078,
     "user": {
      "displayName": "Robert Hancock",
      "photoUrl": "",
      "userId": "18091306208267078283"
     },
     "user_tz": 300
    },
    "id": "F-w2gsP1AMG-",
    "outputId": "5f4a2378-1367-43c2-9254-739a67d341b3"
   },
   "outputs": [],
   "source": [
    "df.describe()"
   ]
  },
  {
   "cell_type": "code",
   "execution_count": null,
   "metadata": {
    "colab": {},
    "colab_type": "code",
    "id": "afxu9SqHAMKD"
   },
   "outputs": [],
   "source": [
    "men = df.loc[(df['sex'] == 'male')]"
   ]
  },
  {
   "cell_type": "code",
   "execution_count": null,
   "metadata": {
    "colab": {},
    "colab_type": "code",
    "id": "shwM6JDhAMOz"
   },
   "outputs": [],
   "source": [
    "women = df.loc[(df['sex'] == 'female')]"
   ]
  },
  {
   "cell_type": "code",
   "execution_count": null,
   "metadata": {
    "colab": {},
    "colab_type": "code",
    "id": "CdeGqqtiAMRX"
   },
   "outputs": [],
   "source": [
    "women_smoker = women.loc[(women['smoker'] == 'yes')]"
   ]
  },
  {
   "cell_type": "code",
   "execution_count": null,
   "metadata": {
    "colab": {},
    "colab_type": "code",
    "id": "OlKM8WEpAMUc"
   },
   "outputs": [],
   "source": [
    "women_non_smoker = women.loc[(women['smoker'] == 'no')]"
   ]
  },
  {
   "cell_type": "code",
   "execution_count": null,
   "metadata": {
    "colab": {},
    "colab_type": "code",
    "id": "89tzAsKsAMX4"
   },
   "outputs": [],
   "source": [
    "men_smoker = men.loc[(men['smoker'] == 'yes')]"
   ]
  },
  {
   "cell_type": "code",
   "execution_count": null,
   "metadata": {
    "colab": {},
    "colab_type": "code",
    "id": "n7pr7hNZAMau"
   },
   "outputs": [],
   "source": [
    "men_non_smoker = men.loc[(men['smoker'] == 'no')]"
   ]
  },
  {
   "cell_type": "code",
   "execution_count": null,
   "metadata": {
    "colab": {},
    "colab_type": "code",
    "id": "XWUV-b4GAMd4"
   },
   "outputs": [],
   "source": [
    "#sns.pairplot(men, vars=['bmi', 'age', 'charges', 'children'], hue=\"smoker\", diag_kind='hist')"
   ]
  },
  {
   "cell_type": "code",
   "execution_count": null,
   "metadata": {
    "colab": {},
    "colab_type": "code",
    "id": "763Ui0HfAMhE"
   },
   "outputs": [],
   "source": [
    "#sns.pairplot(women, vars=['bmi', 'age', 'charges', 'children'], hue=\"smoker\", diag_kind='hist')"
   ]
  },
  {
   "cell_type": "code",
   "execution_count": null,
   "metadata": {
    "colab": {},
    "colab_type": "code",
    "id": "pIj0PSFvAMkF"
   },
   "outputs": [],
   "source": [
    "#sns.pairplot(women_smoker, vars=['bmi', 'age', 'charges', 'children'], hue=\"age\", diag_kind='hist')"
   ]
  },
  {
   "cell_type": "code",
   "execution_count": null,
   "metadata": {
    "colab": {},
    "colab_type": "code",
    "id": "yA5mpKCBAMnJ"
   },
   "outputs": [],
   "source": [
    "#sns.pairplot(men_smoker, vars=['bmi', 'age', 'charges', 'children'], hue=\"age\", diag_kind='hist')"
   ]
  },
  {
   "cell_type": "code",
   "execution_count": null,
   "metadata": {
    "colab": {
     "base_uri": "https://localhost:8080/",
     "height": 51
    },
    "colab_type": "code",
    "executionInfo": {
     "elapsed": 7448,
     "status": "ok",
     "timestamp": 1588540009084,
     "user": {
      "displayName": "Robert Hancock",
      "photoUrl": "",
      "userId": "18091306208267078283"
     },
     "user_tz": 300
    },
    "id": "nlB7w9aJAMqO",
    "outputId": "c7c53219-c002-4782-96e0-e8a89152cfc2"
   },
   "outputs": [],
   "source": [
    "#as seen with the last two sns charts the thing that has the highest correlation is BMI if they are smokers\n",
    "smokerWomenBMI = np.corrcoef(women_smoker['bmi'],women_smoker['charges'])\n",
    "print(smokerWomenBMI) #as seen this is a very strong correlation"
   ]
  },
  {
   "cell_type": "code",
   "execution_count": null,
   "metadata": {
    "colab": {
     "base_uri": "https://localhost:8080/",
     "height": 51
    },
    "colab_type": "code",
    "executionInfo": {
     "elapsed": 7438,
     "status": "ok",
     "timestamp": 1588540009084,
     "user": {
      "displayName": "Robert Hancock",
      "photoUrl": "",
      "userId": "18091306208267078283"
     },
     "user_tz": 300
    },
    "id": "fnpQpB7mAMuf",
    "outputId": "73e342ea-f73e-41b7-a236-dbc5d8b45128"
   },
   "outputs": [],
   "source": [
    "#lets check if the same is true for men\n",
    "smokerMenBMI = np.corrcoef(men_smoker['bmi'],men_smoker['charges'])\n",
    "print(smokerMenBMI) #as seen this is a very strong correlation"
   ]
  },
  {
   "cell_type": "code",
   "execution_count": null,
   "metadata": {
    "colab": {},
    "colab_type": "code",
    "id": "8KmfG9A1AM8v"
   },
   "outputs": [],
   "source": [
    "#now we are going to look at the values side by side\n",
    "from bokeh.io import output_notebook, show\n",
    "output_notebook()\n",
    "from bokeh.plotting import figure\n",
    "from bokeh.layouts import gridplot"
   ]
  },
  {
   "cell_type": "code",
   "execution_count": null,
   "metadata": {
    "colab": {
     "base_uri": "https://localhost:8080/",
     "height": 447
    },
    "colab_type": "code",
    "executionInfo": {
     "elapsed": 548,
     "status": "ok",
     "timestamp": 1588540116578,
     "user": {
      "displayName": "Robert Hancock",
      "photoUrl": "",
      "userId": "18091306208267078283"
     },
     "user_tz": 300
    },
    "id": "W-d5un3mAM-1",
    "outputId": "c0d3ad0b-ba52-49eb-bea8-d0a7181501c5"
   },
   "outputs": [],
   "source": [
    "par = np.polyfit(women_smoker['bmi'], women_smoker['charges'], 1, full=True)\n",
    "slope=par[0][0]\n",
    "intercept=par[0][1]\n",
    "y_predicted = [slope*i + intercept  for i in women_smoker['bmi']]\n",
    "\n",
    "p1 = figure(title=\"Charges for Women (Who are smokers) by BMI\", x_axis_label = \"BMI\", y_axis_label = \"Charges\", plot_width=400, plot_height=400)\n",
    "p1.circle(women_smoker['bmi'], women_smoker['charges'], size = 8, color='black', fill_color='yellow', alpha=.9)\n",
    "p1.line(women_smoker['bmi'],y_predicted,color='red',legend_label= 'y ='+str(round(slope,2))+'x+'+str(round(intercept,2)))\n",
    "\n",
    "par = np.polyfit(men_smoker['bmi'], men_smoker['charges'], 1, full=True)\n",
    "slope=par[0][0]\n",
    "intercept=par[0][1]\n",
    "y_predicted = [slope*i + intercept  for i in men_smoker['bmi']]\n",
    "\n",
    "p2 = figure(title=\"Charges for Men (Who are smokers) by BMI\", x_axis_label = \"BMI\", y_axis_label = \"Charges\", plot_width=400, plot_height=400)\n",
    "p2.circle(men_smoker['bmi'], men_smoker['charges'], size = 8, color='black', fill_color='blue', alpha=.9)\n",
    "p2.line(men_smoker['bmi'],y_predicted,color='red',legend_label ='y ='+str(round(slope,2))+'x+'+str(round(intercept,2)))\n",
    "\n",
    "g = gridplot([[p1,p2]])\n",
    "show(g)"
   ]
  },
  {
   "cell_type": "code",
   "execution_count": null,
   "metadata": {
    "colab": {},
    "colab_type": "code",
    "id": "80FoXpTwANBg"
   },
   "outputs": [],
   "source": [
    "#as we can see there are a few outliers but for the most part this is a fairly linear graph, saying that we might be able to predict this with a line of best fit\n",
    "#but first lets look at the same with men and women who are not smokers\n",
    "from bokeh.models import ColumnDataSource, CDSView, GroupFilter\n",
    "sourceMen = ColumnDataSource(women_non_smoker)\n",
    "sourceWomen = ColumnDataSource(men_non_smoker)\n",
    "NoSmokeMen = CDSView(source = sourceMen, filters = [GroupFilter(column_name = 'smoker', group = 'no')])\n",
    "NoSmokeWomen = CDSView(source = sourceWomen, filters = [GroupFilter(column_name = 'smoker', group = 'no')])"
   ]
  },
  {
   "cell_type": "code",
   "execution_count": null,
   "metadata": {
    "colab": {
     "base_uri": "https://localhost:8080/",
     "height": 481
    },
    "colab_type": "code",
    "executionInfo": {
     "elapsed": 8249,
     "status": "ok",
     "timestamp": 1588540009922,
     "user": {
      "displayName": "Robert Hancock",
      "photoUrl": "",
      "userId": "18091306208267078283"
     },
     "user_tz": 300
    },
    "id": "4nKfiyWAxeIa",
    "outputId": "45d559ff-8dbe-4097-b298-c97bfc763f97"
   },
   "outputs": [],
   "source": [
    "par = np.polyfit(women['bmi'], women['charges'], 1, full=True)\n",
    "slope=par[0][0]\n",
    "intercept=par[0][1]\n",
    "y_predicted = [slope*i + intercept  for i in women['bmi']]\n",
    "\n",
    "p3 = figure(title=\"Charges for Women (Who are  not smokers) by BMI\", x_axis_label = \"BMI\", y_axis_label = \"Charges\", plot_width=400, plot_height=400)\n",
    "p3.circle(women['bmi'], women['charges'], size = 8, view = NoSmokeWomen, color='black', fill_color='yellow', alpha=.9)\n",
    "p3.line(women['bmi'],y_predicted,color='red',legend_label= 'y ='+str(round(slope,2))+'x+'+str(round(intercept,2)))\n",
    "\n",
    "\n",
    "par = np.polyfit(men['bmi'], men['charges'], 1, full=True)\n",
    "slope=par[0][0]\n",
    "intercept=par[0][1]\n",
    "y_predicted = [slope*i + intercept  for i in men['bmi']]\n",
    "\n",
    "p4 = figure(title=\"Charges for Men (Who are not smokers) by BMI\", x_axis_label = \"BMI\", y_axis_label = \"Charges\", plot_width=400, plot_height=400)\n",
    "p4.circle(men['bmi'], men['charges'], size = 8, view = NoSmokeMen, color='black', fill_color='blue', alpha=.9)\n",
    "p4.line(men['bmi'],y_predicted,color='red',legend_label= 'y ='+str(round(slope,2))+'x+'+str(round(intercept,2)))\n",
    "\n",
    "g1 = gridplot([[p3,p4]])\n",
    "show(g1) #we see little to no correlation between the two now... lets see if age helps"
   ]
  },
  {
   "cell_type": "code",
   "execution_count": null,
   "metadata": {
    "colab": {
     "base_uri": "https://localhost:8080/",
     "height": 34
    },
    "colab_type": "code",
    "executionInfo": {
     "elapsed": 8241,
     "status": "ok",
     "timestamp": 1588540009923,
     "user": {
      "displayName": "Robert Hancock",
      "photoUrl": "",
      "userId": "18091306208267078283"
     },
     "user_tz": 300
    },
    "id": "WQfXKSszANHn",
    "outputId": "50712f17-5d52-42ae-a65f-d45ead069ae9"
   },
   "outputs": [],
   "source": [
    "men_inter = men_smoker['charges'].mean() - 0.76935535 * (men_smoker['bmi'].mean())\n",
    "women_inter = women_smoker['charges'].mean() - 0.84590983 * (women_smoker['bmi'].mean())\n",
    "print(\"male intercept: \", str(men_inter), \" and the female intercept: \", str(women_inter))"
   ]
  },
  {
   "cell_type": "code",
   "execution_count": null,
   "metadata": {
    "colab": {},
    "colab_type": "code",
    "id": "zz-kCiwOANK0"
   },
   "outputs": [],
   "source": [
    "#prediction formula\n",
    "def MaleSmokerCharges(x = 0.0) :\n",
    "  est = men_inter + 0.76935535 * (x)\n",
    "  return est\n",
    "def WomenSmokerCharges(x = 0.0) :\n",
    "  est = women_inter + 0.84590983 * (x)\n",
    "  return est"
   ]
  },
  {
   "cell_type": "code",
   "execution_count": null,
   "metadata": {
    "colab": {
     "base_uri": "https://localhost:8080/",
     "height": 419
    },
    "colab_type": "code",
    "executionInfo": {
     "elapsed": 8543,
     "status": "ok",
     "timestamp": 1588540010238,
     "user": {
      "displayName": "Robert Hancock",
      "photoUrl": "",
      "userId": "18091306208267078283"
     },
     "user_tz": 300
    },
    "id": "iIxjhRfRANNc",
    "outputId": "0d4015ee-7e2e-4b6e-df3b-34f6ef0bf2c4"
   },
   "outputs": [],
   "source": [
    "men_smoker"
   ]
  },
  {
   "cell_type": "code",
   "execution_count": null,
   "metadata": {
    "colab": {
     "base_uri": "https://localhost:8080/",
     "height": 419
    },
    "colab_type": "code",
    "executionInfo": {
     "elapsed": 8534,
     "status": "ok",
     "timestamp": 1588540010239,
     "user": {
      "displayName": "Robert Hancock",
      "photoUrl": "",
      "userId": "18091306208267078283"
     },
     "user_tz": 300
    },
    "id": "_SnZvrsXANQK",
    "outputId": "bd5f0884-cd46-4c40-b4a4-98085b205545"
   },
   "outputs": [],
   "source": [
    "women_smoker"
   ]
  },
  {
   "cell_type": "code",
   "execution_count": null,
   "metadata": {
    "colab": {},
    "colab_type": "code",
    "id": "XAl-y6tkANTJ"
   },
   "outputs": [],
   "source": [
    "#using the new formula lets check the error with the top 3 "
   ]
  },
  {
   "cell_type": "code",
   "execution_count": null,
   "metadata": {
    "colab": {
     "base_uri": "https://localhost:8080/",
     "height": 34
    },
    "colab_type": "code",
    "executionInfo": {
     "elapsed": 8523,
     "status": "ok",
     "timestamp": 1588540010240,
     "user": {
      "displayName": "Robert Hancock",
      "photoUrl": "",
      "userId": "18091306208267078283"
     },
     "user_tz": 300
    },
    "id": "DvLoUpwYANWk",
    "outputId": "15fe5556-4db2-4257-9889-a81b145db6d2"
   },
   "outputs": [],
   "source": [
    "Male_error1 = MaleSmokerCharges(x = 42.13) - 39611.75770\n",
    "Male_error2 = MaleSmokerCharges(x = 35.30) - 36837.46700\n",
    "Male_error3 = MaleSmokerCharges(x = 36.30) - 38711.00000\n",
    "print(\"This is the error rates for the frist three sections, Error for the first = \", str(Male_error1), \". For the second = \", str(Male_error2), \". and the thrid = \", str(Male_error3))"
   ]
  },
  {
   "cell_type": "code",
   "execution_count": null,
   "metadata": {
    "colab": {
     "base_uri": "https://localhost:8080/",
     "height": 34
    },
    "colab_type": "code",
    "executionInfo": {
     "elapsed": 8515,
     "status": "ok",
     "timestamp": 1588540010241,
     "user": {
      "displayName": "Robert Hancock",
      "photoUrl": "",
      "userId": "18091306208267078283"
     },
     "user_tz": 300
    },
    "id": "j4GbK39EANZR",
    "outputId": "b11dd678-446c-47a7-d723-a11203d52251"
   },
   "outputs": [],
   "source": [
    "female_error1 = WomenSmokerCharges(x = 27.90) - 39611.75770\n",
    "female_error2 = WomenSmokerCharges(x = 26.29) - 36837.46700\n",
    "female_error3 = WomenSmokerCharges(x = 31.92) - 38711.00000\n",
    "print(\"This is the error rates for the frist three sections, Error for the first = \", str(female_error1), \". For the second = \", str(female_error2), \". and the thrid = \", str(female_error3))"
   ]
  },
  {
   "cell_type": "code",
   "execution_count": null,
   "metadata": {
    "colab": {},
    "colab_type": "code",
    "id": "W5wqsVLCANcB"
   },
   "outputs": [],
   "source": [
    "from sklearn.linear_model import LogisticRegression\n",
    "smoker = df.loc[(df['smoker'] == 'yes')]\n",
    "X = smoker.loc[:, ['bmi', 'age']]\n",
    "y = smoker.loc[:, 'charges' ]"
   ]
  },
  {
   "cell_type": "code",
   "execution_count": null,
   "metadata": {
    "colab": {
     "base_uri": "https://localhost:8080/",
     "height": 255
    },
    "colab_type": "code",
    "executionInfo": {
     "elapsed": 8693,
     "status": "ok",
     "timestamp": 1588540010431,
     "user": {
      "displayName": "Robert Hancock",
      "photoUrl": "",
      "userId": "18091306208267078283"
     },
     "user_tz": 300
    },
    "id": "ZMSZROPlANiL",
    "outputId": "0924f0da-a9e2-474a-cab1-1e01217a4df0"
   },
   "outputs": [],
   "source": [
    "print(X)"
   ]
  },
  {
   "cell_type": "code",
   "execution_count": null,
   "metadata": {
    "colab": {
     "base_uri": "https://localhost:8080/",
     "height": 221
    },
    "colab_type": "code",
    "executionInfo": {
     "elapsed": 8684,
     "status": "ok",
     "timestamp": 1588540010431,
     "user": {
      "displayName": "Robert Hancock",
      "photoUrl": "",
      "userId": "18091306208267078283"
     },
     "user_tz": 300
    },
    "id": "UA5rwhDmANlC",
    "outputId": "ee9302c2-9df5-47f0-abef-36cbf198cad1"
   },
   "outputs": [],
   "source": [
    "print(y)"
   ]
  },
  {
   "cell_type": "code",
   "execution_count": null,
   "metadata": {
    "colab": {},
    "colab_type": "code",
    "id": "FEy3X7i3YUsQ"
   },
   "outputs": [],
   "source": [
    "#y=np.int64(y)"
   ]
  },
  {
   "cell_type": "code",
   "execution_count": null,
   "metadata": {
    "colab": {},
    "colab_type": "code",
    "id": "zniHhHoNANfC"
   },
   "outputs": [],
   "source": [
    "from sklearn.model_selection import train_test_split\n",
    "X_train, X_test, y_train, y_test = train_test_split(X, y, test_size = 0.2, random_state = 100)"
   ]
  },
  {
   "cell_type": "code",
   "execution_count": null,
   "metadata": {
    "colab": {},
    "colab_type": "code",
    "id": "z9i1kjjJgzYd"
   },
   "outputs": [],
   "source": [
    "from sklearn.linear_model import LinearRegression"
   ]
  },
  {
   "cell_type": "code",
   "execution_count": null,
   "metadata": {
    "colab": {},
    "colab_type": "code",
    "id": "nx3hNeuOhBiH"
   },
   "outputs": [],
   "source": [
    "reg = LinearRegression().fit(X, y)\n",
    "reg_train = LinearRegression().fit(X_train,y_train)"
   ]
  },
  {
   "cell_type": "code",
   "execution_count": null,
   "metadata": {
    "colab": {
     "base_uri": "https://localhost:8080/",
     "height": 255
    },
    "colab_type": "code",
    "executionInfo": {
     "elapsed": 8668,
     "status": "ok",
     "timestamp": 1588540010433,
     "user": {
      "displayName": "Robert Hancock",
      "photoUrl": "",
      "userId": "18091306208267078283"
     },
     "user_tz": 300
    },
    "id": "yprUYvUHhfxh",
    "outputId": "f38f6503-56e5-4f1b-aceb-db70b6ebe38b"
   },
   "outputs": [],
   "source": [
    "y_preds = reg_train.predict(X_test)\n",
    "print(reg_train.predict(X_test))"
   ]
  },
  {
   "cell_type": "code",
   "execution_count": null,
   "metadata": {
    "colab": {
     "base_uri": "https://localhost:8080/",
     "height": 969
    },
    "colab_type": "code",
    "executionInfo": {
     "elapsed": 8659,
     "status": "ok",
     "timestamp": 1588540010434,
     "user": {
      "displayName": "Robert Hancock",
      "photoUrl": "",
      "userId": "18091306208267078283"
     },
     "user_tz": 300
    },
    "id": "4XQIxc6whg6C",
    "outputId": "90642b55-cfbc-48cc-e797-7761cd28e427"
   },
   "outputs": [],
   "source": [
    "print(y_test)"
   ]
  },
  {
   "cell_type": "code",
   "execution_count": null,
   "metadata": {
    "colab": {},
    "colab_type": "code",
    "id": "K_XXv0v7jLhH"
   },
   "outputs": [],
   "source": [
    "per_difference  = []\n",
    "ys = zip(y_test, y_preds)\n",
    "for nums, number in ys :\n",
    "  per_difference.append((number - nums) / nums)"
   ]
  },
  {
   "cell_type": "code",
   "execution_count": null,
   "metadata": {
    "colab": {
     "base_uri": "https://localhost:8080/",
     "height": 54
    },
    "colab_type": "code",
    "executionInfo": {
     "elapsed": 8647,
     "status": "ok",
     "timestamp": 1588540010435,
     "user": {
      "displayName": "Robert Hancock",
      "photoUrl": "",
      "userId": "18091306208267078283"
     },
     "user_tz": 300
    },
    "id": "pdy934w5nN0v",
    "outputId": "741ea92d-e71f-4db0-af4f-a3da200a2224"
   },
   "outputs": [],
   "source": [
    "print(per_difference)"
   ]
  },
  {
   "cell_type": "code",
   "execution_count": null,
   "metadata": {
    "colab": {
     "base_uri": "https://localhost:8080/",
     "height": 34
    },
    "colab_type": "code",
    "executionInfo": {
     "elapsed": 8638,
     "status": "ok",
     "timestamp": 1588540010435,
     "user": {
      "displayName": "Robert Hancock",
      "photoUrl": "",
      "userId": "18091306208267078283"
     },
     "user_tz": 300
    },
    "id": "B89sxkizn4XP",
    "outputId": "d65a9da0-c700-48ac-c946-309956a7835a"
   },
   "outputs": [],
   "source": [
    "count = 0\n",
    "sum_dif = 0\n",
    "for num in per_difference :\n",
    "  count += 1\n",
    "  if num < 0 :\n",
    "    sum_dif += (num * -1)\n",
    "  else :\n",
    "    sum_dif += num\n",
    "print(\"The Total differance is : \"+ str(sum_dif) +\", The Total Y test values is : \"+ str(count) + \", The average charges error is: \" + str(sum_dif / count) )\n",
    "ave_er =  100 * (sum_dif / count)"
   ]
  },
  {
   "cell_type": "code",
   "execution_count": null,
   "metadata": {
    "colab": {
     "base_uri": "https://localhost:8080/",
     "height": 34
    },
    "colab_type": "code",
    "executionInfo": {
     "elapsed": 8627,
     "status": "ok",
     "timestamp": 1588540010435,
     "user": {
      "displayName": "Robert Hancock",
      "photoUrl": "",
      "userId": "18091306208267078283"
     },
     "user_tz": 300
    },
    "id": "4u6F6aMGyMJ-",
    "outputId": "f816d228-87be-4481-b9a2-b2a6d3421f12"
   },
   "outputs": [],
   "source": [
    "print(\"This model is %\" + str(100 - ave_er) + \", accurate\")"
   ]
  },
  {
   "cell_type": "code",
   "execution_count": null,
   "metadata": {
    "colab": {},
    "colab_type": "code",
    "id": "EiepLCS97jo-"
   },
   "outputs": [],
   "source": [
    "difference  = []\n",
    "ys = zip(y_test, y_preds)\n",
    "for nums, number in ys :\n",
    "  difference.append((number - nums))"
   ]
  },
  {
   "cell_type": "code",
   "execution_count": null,
   "metadata": {
    "colab": {
     "base_uri": "https://localhost:8080/",
     "height": 54
    },
    "colab_type": "code",
    "executionInfo": {
     "elapsed": 8616,
     "status": "ok",
     "timestamp": 1588540010436,
     "user": {
      "displayName": "Robert Hancock",
      "photoUrl": "",
      "userId": "18091306208267078283"
     },
     "user_tz": 300
    },
    "id": "tDuLONzl85TQ",
    "outputId": "d6f12d05-aa86-42a4-f1dd-d7fde0c593eb"
   },
   "outputs": [],
   "source": [
    "print(difference)"
   ]
  },
  {
   "cell_type": "code",
   "execution_count": null,
   "metadata": {
    "colab": {
     "base_uri": "https://localhost:8080/",
     "height": 34
    },
    "colab_type": "code",
    "executionInfo": {
     "elapsed": 8605,
     "status": "ok",
     "timestamp": 1588540010436,
     "user": {
      "displayName": "Robert Hancock",
      "photoUrl": "",
      "userId": "18091306208267078283"
     },
     "user_tz": 300
    },
    "id": "L1zx88sB88x2",
    "outputId": "feaa8907-ee17-4622-aebf-3935c7290423"
   },
   "outputs": [],
   "source": [
    "counts = 0\n",
    "sum_diff = 0\n",
    "for num in difference :\n",
    "  counts += 1\n",
    "  if num < 0 :\n",
    "    sum_diff += (num * -1)\n",
    "  else :\n",
    "    sum_diff += num\n",
    "print(\"The Total differance is : \"+ str(sum_diff) +\", The Total Y test values is : \"+ str(counts) + \", The average charges error distance is: + or - $\" + str(sum_diff / counts) )\n",
    "ave_dis =  sum_dif / count"
   ]
  },
  {
   "cell_type": "code",
   "execution_count": null,
   "metadata": {
    "colab": {},
    "colab_type": "code",
    "id": "15yMMf6s9VgO"
   },
   "outputs": [],
   "source": [
    "from sklearn.metrics import mean_squared_error, r2_score"
   ]
  },
  {
   "cell_type": "code",
   "execution_count": null,
   "metadata": {
    "colab": {
     "base_uri": "https://localhost:8080/",
     "height": 51
    },
    "colab_type": "code",
    "executionInfo": {
     "elapsed": 8595,
     "status": "ok",
     "timestamp": 1588540010438,
     "user": {
      "displayName": "Robert Hancock",
      "photoUrl": "",
      "userId": "18091306208267078283"
     },
     "user_tz": 300
    },
    "id": "v217-htt-AFZ",
    "outputId": "20eab37e-ba8f-43b1-a17b-e0e2d4aba754"
   },
   "outputs": [],
   "source": [
    "rmse = mean_squared_error(y_test, y_preds)\n",
    "r2 = r2_score(y_test, y_preds)\n",
    "print('Root Mean Square Error:', rmse)\n",
    "print('R2 score:', r2)"
   ]
  },
  {
   "cell_type": "code",
   "execution_count": null,
   "metadata": {
    "colab": {},
    "colab_type": "code",
    "id": "SUEUbfUG-HaJ"
   },
   "outputs": [],
   "source": []
  }
 ],
 "metadata": {
  "colab": {
   "collapsed_sections": [],
   "name": "DataSet_Final_Project.ipynb",
   "provenance": []
  },
  "kernelspec": {
   "display_name": "Python 3",
   "language": "python",
   "name": "python3"
  },
  "language_info": {
   "codemirror_mode": {
    "name": "ipython",
    "version": 3
   },
   "file_extension": ".py",
   "mimetype": "text/x-python",
   "name": "python",
   "nbconvert_exporter": "python",
   "pygments_lexer": "ipython3",
   "version": "3.7.4"
  }
 },
 "nbformat": 4,
 "nbformat_minor": 1
}
